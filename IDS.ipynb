{
 "cells": [
  {
   "cell_type": "markdown",
   "id": "fc39902c",
   "metadata": {},
   "source": [
    "# Signature-based Intrusion-Detection-System"
   ]
  },
  {
   "cell_type": "code",
   "execution_count": 1,
   "id": "5fc4b575",
   "metadata": {},
   "outputs": [
    {
     "data": {
      "text/html": [
       "<div>\n",
       "<style scoped>\n",
       "    .dataframe tbody tr th:only-of-type {\n",
       "        vertical-align: middle;\n",
       "    }\n",
       "\n",
       "    .dataframe tbody tr th {\n",
       "        vertical-align: top;\n",
       "    }\n",
       "\n",
       "    .dataframe thead th {\n",
       "        text-align: right;\n",
       "    }\n",
       "</style>\n",
       "<table border=\"1\" class=\"dataframe\">\n",
       "  <thead>\n",
       "    <tr style=\"text-align: right;\">\n",
       "      <th></th>\n",
       "      <th>IPV4_SRC_ADDR</th>\n",
       "      <th>L4_SRC_PORT</th>\n",
       "      <th>IPV4_DST_ADDR</th>\n",
       "      <th>L4_DST_PORT</th>\n",
       "      <th>PROTOCOL</th>\n",
       "      <th>L7_PROTO</th>\n",
       "      <th>IN_BYTES</th>\n",
       "      <th>OUT_BYTES</th>\n",
       "      <th>IN_PKTS</th>\n",
       "      <th>OUT_PKTS</th>\n",
       "      <th>TCP_FLAGS</th>\n",
       "      <th>FLOW_DURATION_MILLISECONDS</th>\n",
       "      <th>Label</th>\n",
       "      <th>Attack</th>\n",
       "    </tr>\n",
       "  </thead>\n",
       "  <tbody>\n",
       "    <tr>\n",
       "      <th>0</th>\n",
       "      <td>149.171.126.0</td>\n",
       "      <td>62073</td>\n",
       "      <td>59.166.0.5</td>\n",
       "      <td>56082</td>\n",
       "      <td>6</td>\n",
       "      <td>0.0</td>\n",
       "      <td>9672</td>\n",
       "      <td>416</td>\n",
       "      <td>11</td>\n",
       "      <td>8</td>\n",
       "      <td>25</td>\n",
       "      <td>15</td>\n",
       "      <td>0</td>\n",
       "      <td>Benign</td>\n",
       "    </tr>\n",
       "    <tr>\n",
       "      <th>1</th>\n",
       "      <td>149.171.126.2</td>\n",
       "      <td>32284</td>\n",
       "      <td>59.166.0.5</td>\n",
       "      <td>1526</td>\n",
       "      <td>6</td>\n",
       "      <td>0.0</td>\n",
       "      <td>1776</td>\n",
       "      <td>104</td>\n",
       "      <td>6</td>\n",
       "      <td>2</td>\n",
       "      <td>25</td>\n",
       "      <td>0</td>\n",
       "      <td>0</td>\n",
       "      <td>Benign</td>\n",
       "    </tr>\n",
       "    <tr>\n",
       "      <th>2</th>\n",
       "      <td>149.171.126.0</td>\n",
       "      <td>21</td>\n",
       "      <td>59.166.0.1</td>\n",
       "      <td>21971</td>\n",
       "      <td>6</td>\n",
       "      <td>1.0</td>\n",
       "      <td>1842</td>\n",
       "      <td>1236</td>\n",
       "      <td>26</td>\n",
       "      <td>22</td>\n",
       "      <td>25</td>\n",
       "      <td>1111</td>\n",
       "      <td>0</td>\n",
       "      <td>Benign</td>\n",
       "    </tr>\n",
       "    <tr>\n",
       "      <th>3</th>\n",
       "      <td>59.166.0.1</td>\n",
       "      <td>23800</td>\n",
       "      <td>149.171.126.0</td>\n",
       "      <td>46893</td>\n",
       "      <td>6</td>\n",
       "      <td>0.0</td>\n",
       "      <td>528</td>\n",
       "      <td>8824</td>\n",
       "      <td>10</td>\n",
       "      <td>12</td>\n",
       "      <td>27</td>\n",
       "      <td>124</td>\n",
       "      <td>0</td>\n",
       "      <td>Benign</td>\n",
       "    </tr>\n",
       "    <tr>\n",
       "      <th>4</th>\n",
       "      <td>59.166.0.5</td>\n",
       "      <td>63062</td>\n",
       "      <td>149.171.126.2</td>\n",
       "      <td>21</td>\n",
       "      <td>6</td>\n",
       "      <td>1.0</td>\n",
       "      <td>1786</td>\n",
       "      <td>2340</td>\n",
       "      <td>32</td>\n",
       "      <td>34</td>\n",
       "      <td>25</td>\n",
       "      <td>1459</td>\n",
       "      <td>0</td>\n",
       "      <td>Benign</td>\n",
       "    </tr>\n",
       "    <tr>\n",
       "      <th>...</th>\n",
       "      <td>...</td>\n",
       "      <td>...</td>\n",
       "      <td>...</td>\n",
       "      <td>...</td>\n",
       "      <td>...</td>\n",
       "      <td>...</td>\n",
       "      <td>...</td>\n",
       "      <td>...</td>\n",
       "      <td>...</td>\n",
       "      <td>...</td>\n",
       "      <td>...</td>\n",
       "      <td>...</td>\n",
       "      <td>...</td>\n",
       "      <td>...</td>\n",
       "    </tr>\n",
       "    <tr>\n",
       "      <th>1623113</th>\n",
       "      <td>59.166.0.2</td>\n",
       "      <td>1640</td>\n",
       "      <td>149.171.126.8</td>\n",
       "      <td>53</td>\n",
       "      <td>17</td>\n",
       "      <td>0.0</td>\n",
       "      <td>130</td>\n",
       "      <td>162</td>\n",
       "      <td>2</td>\n",
       "      <td>2</td>\n",
       "      <td>0</td>\n",
       "      <td>0</td>\n",
       "      <td>0</td>\n",
       "      <td>Benign</td>\n",
       "    </tr>\n",
       "    <tr>\n",
       "      <th>1623114</th>\n",
       "      <td>59.166.0.2</td>\n",
       "      <td>3610</td>\n",
       "      <td>149.171.126.6</td>\n",
       "      <td>21</td>\n",
       "      <td>6</td>\n",
       "      <td>1.0</td>\n",
       "      <td>2044</td>\n",
       "      <td>2404</td>\n",
       "      <td>36</td>\n",
       "      <td>34</td>\n",
       "      <td>26</td>\n",
       "      <td>0</td>\n",
       "      <td>0</td>\n",
       "      <td>Benign</td>\n",
       "    </tr>\n",
       "    <tr>\n",
       "      <th>1623115</th>\n",
       "      <td>59.166.0.2</td>\n",
       "      <td>4667</td>\n",
       "      <td>149.171.126.6</td>\n",
       "      <td>40725</td>\n",
       "      <td>6</td>\n",
       "      <td>0.0</td>\n",
       "      <td>320</td>\n",
       "      <td>1918</td>\n",
       "      <td>6</td>\n",
       "      <td>8</td>\n",
       "      <td>27</td>\n",
       "      <td>0</td>\n",
       "      <td>0</td>\n",
       "      <td>Benign</td>\n",
       "    </tr>\n",
       "    <tr>\n",
       "      <th>1623116</th>\n",
       "      <td>59.166.0.2</td>\n",
       "      <td>5641</td>\n",
       "      <td>149.171.126.6</td>\n",
       "      <td>56243</td>\n",
       "      <td>6</td>\n",
       "      <td>0.0</td>\n",
       "      <td>528</td>\n",
       "      <td>8824</td>\n",
       "      <td>10</td>\n",
       "      <td>12</td>\n",
       "      <td>27</td>\n",
       "      <td>0</td>\n",
       "      <td>0</td>\n",
       "      <td>Benign</td>\n",
       "    </tr>\n",
       "    <tr>\n",
       "      <th>1623117</th>\n",
       "      <td>59.166.0.1</td>\n",
       "      <td>1245</td>\n",
       "      <td>149.171.126.6</td>\n",
       "      <td>55094</td>\n",
       "      <td>6</td>\n",
       "      <td>0.0</td>\n",
       "      <td>216</td>\n",
       "      <td>112</td>\n",
       "      <td>4</td>\n",
       "      <td>2</td>\n",
       "      <td>18</td>\n",
       "      <td>0</td>\n",
       "      <td>0</td>\n",
       "      <td>Benign</td>\n",
       "    </tr>\n",
       "  </tbody>\n",
       "</table>\n",
       "<p>1623118 rows × 14 columns</p>\n",
       "</div>"
      ],
      "text/plain": [
       "         IPV4_SRC_ADDR  L4_SRC_PORT  IPV4_DST_ADDR  L4_DST_PORT  PROTOCOL  \\\n",
       "0        149.171.126.0        62073     59.166.0.5        56082         6   \n",
       "1        149.171.126.2        32284     59.166.0.5         1526         6   \n",
       "2        149.171.126.0           21     59.166.0.1        21971         6   \n",
       "3           59.166.0.1        23800  149.171.126.0        46893         6   \n",
       "4           59.166.0.5        63062  149.171.126.2           21         6   \n",
       "...                ...          ...            ...          ...       ...   \n",
       "1623113     59.166.0.2         1640  149.171.126.8           53        17   \n",
       "1623114     59.166.0.2         3610  149.171.126.6           21         6   \n",
       "1623115     59.166.0.2         4667  149.171.126.6        40725         6   \n",
       "1623116     59.166.0.2         5641  149.171.126.6        56243         6   \n",
       "1623117     59.166.0.1         1245  149.171.126.6        55094         6   \n",
       "\n",
       "         L7_PROTO  IN_BYTES  OUT_BYTES  IN_PKTS  OUT_PKTS  TCP_FLAGS  \\\n",
       "0             0.0      9672        416       11         8         25   \n",
       "1             0.0      1776        104        6         2         25   \n",
       "2             1.0      1842       1236       26        22         25   \n",
       "3             0.0       528       8824       10        12         27   \n",
       "4             1.0      1786       2340       32        34         25   \n",
       "...           ...       ...        ...      ...       ...        ...   \n",
       "1623113       0.0       130        162        2         2          0   \n",
       "1623114       1.0      2044       2404       36        34         26   \n",
       "1623115       0.0       320       1918        6         8         27   \n",
       "1623116       0.0       528       8824       10        12         27   \n",
       "1623117       0.0       216        112        4         2         18   \n",
       "\n",
       "         FLOW_DURATION_MILLISECONDS  Label  Attack  \n",
       "0                                15      0  Benign  \n",
       "1                                 0      0  Benign  \n",
       "2                              1111      0  Benign  \n",
       "3                               124      0  Benign  \n",
       "4                              1459      0  Benign  \n",
       "...                             ...    ...     ...  \n",
       "1623113                           0      0  Benign  \n",
       "1623114                           0      0  Benign  \n",
       "1623115                           0      0  Benign  \n",
       "1623116                           0      0  Benign  \n",
       "1623117                           0      0  Benign  \n",
       "\n",
       "[1623118 rows x 14 columns]"
      ]
     },
     "execution_count": 1,
     "metadata": {},
     "output_type": "execute_result"
    }
   ],
   "source": [
    "import pandas as pd \n",
    "df = pd.read_csv(\"NF-UNSW-NB15.csv\")\n",
    "df.head()\n",
    "df"
   ]
  },
  {
   "cell_type": "code",
   "execution_count": 2,
   "id": "c3eda62a",
   "metadata": {},
   "outputs": [
    {
     "data": {
      "text/html": [
       "<div>\n",
       "<style scoped>\n",
       "    .dataframe tbody tr th:only-of-type {\n",
       "        vertical-align: middle;\n",
       "    }\n",
       "\n",
       "    .dataframe tbody tr th {\n",
       "        vertical-align: top;\n",
       "    }\n",
       "\n",
       "    .dataframe thead th {\n",
       "        text-align: right;\n",
       "    }\n",
       "</style>\n",
       "<table border=\"1\" class=\"dataframe\">\n",
       "  <thead>\n",
       "    <tr style=\"text-align: right;\">\n",
       "      <th></th>\n",
       "      <th>IPV4_SRC_ADDR</th>\n",
       "      <th>L4_SRC_PORT</th>\n",
       "      <th>IPV4_DST_ADDR</th>\n",
       "      <th>L4_DST_PORT</th>\n",
       "      <th>PROTOCOL</th>\n",
       "      <th>L7_PROTO</th>\n",
       "      <th>IN_BYTES</th>\n",
       "      <th>OUT_BYTES</th>\n",
       "      <th>IN_PKTS</th>\n",
       "      <th>OUT_PKTS</th>\n",
       "      <th>TCP_FLAGS</th>\n",
       "      <th>FLOW_DURATION_MILLISECONDS</th>\n",
       "      <th>Label</th>\n",
       "    </tr>\n",
       "  </thead>\n",
       "  <tbody>\n",
       "    <tr>\n",
       "      <th>0</th>\n",
       "      <td>149.171.126.0</td>\n",
       "      <td>62073</td>\n",
       "      <td>59.166.0.5</td>\n",
       "      <td>56082</td>\n",
       "      <td>6</td>\n",
       "      <td>0.0</td>\n",
       "      <td>9672</td>\n",
       "      <td>416</td>\n",
       "      <td>11</td>\n",
       "      <td>8</td>\n",
       "      <td>25</td>\n",
       "      <td>15</td>\n",
       "      <td>0</td>\n",
       "    </tr>\n",
       "    <tr>\n",
       "      <th>1</th>\n",
       "      <td>149.171.126.2</td>\n",
       "      <td>32284</td>\n",
       "      <td>59.166.0.5</td>\n",
       "      <td>1526</td>\n",
       "      <td>6</td>\n",
       "      <td>0.0</td>\n",
       "      <td>1776</td>\n",
       "      <td>104</td>\n",
       "      <td>6</td>\n",
       "      <td>2</td>\n",
       "      <td>25</td>\n",
       "      <td>0</td>\n",
       "      <td>0</td>\n",
       "    </tr>\n",
       "    <tr>\n",
       "      <th>2</th>\n",
       "      <td>149.171.126.0</td>\n",
       "      <td>21</td>\n",
       "      <td>59.166.0.1</td>\n",
       "      <td>21971</td>\n",
       "      <td>6</td>\n",
       "      <td>1.0</td>\n",
       "      <td>1842</td>\n",
       "      <td>1236</td>\n",
       "      <td>26</td>\n",
       "      <td>22</td>\n",
       "      <td>25</td>\n",
       "      <td>1111</td>\n",
       "      <td>0</td>\n",
       "    </tr>\n",
       "    <tr>\n",
       "      <th>3</th>\n",
       "      <td>59.166.0.1</td>\n",
       "      <td>23800</td>\n",
       "      <td>149.171.126.0</td>\n",
       "      <td>46893</td>\n",
       "      <td>6</td>\n",
       "      <td>0.0</td>\n",
       "      <td>528</td>\n",
       "      <td>8824</td>\n",
       "      <td>10</td>\n",
       "      <td>12</td>\n",
       "      <td>27</td>\n",
       "      <td>124</td>\n",
       "      <td>0</td>\n",
       "    </tr>\n",
       "    <tr>\n",
       "      <th>4</th>\n",
       "      <td>59.166.0.5</td>\n",
       "      <td>63062</td>\n",
       "      <td>149.171.126.2</td>\n",
       "      <td>21</td>\n",
       "      <td>6</td>\n",
       "      <td>1.0</td>\n",
       "      <td>1786</td>\n",
       "      <td>2340</td>\n",
       "      <td>32</td>\n",
       "      <td>34</td>\n",
       "      <td>25</td>\n",
       "      <td>1459</td>\n",
       "      <td>0</td>\n",
       "    </tr>\n",
       "  </tbody>\n",
       "</table>\n",
       "</div>"
      ],
      "text/plain": [
       "   IPV4_SRC_ADDR  L4_SRC_PORT  IPV4_DST_ADDR  L4_DST_PORT  PROTOCOL  L7_PROTO  \\\n",
       "0  149.171.126.0        62073     59.166.0.5        56082         6       0.0   \n",
       "1  149.171.126.2        32284     59.166.0.5         1526         6       0.0   \n",
       "2  149.171.126.0           21     59.166.0.1        21971         6       1.0   \n",
       "3     59.166.0.1        23800  149.171.126.0        46893         6       0.0   \n",
       "4     59.166.0.5        63062  149.171.126.2           21         6       1.0   \n",
       "\n",
       "   IN_BYTES  OUT_BYTES  IN_PKTS  OUT_PKTS  TCP_FLAGS  \\\n",
       "0      9672        416       11         8         25   \n",
       "1      1776        104        6         2         25   \n",
       "2      1842       1236       26        22         25   \n",
       "3       528       8824       10        12         27   \n",
       "4      1786       2340       32        34         25   \n",
       "\n",
       "   FLOW_DURATION_MILLISECONDS  Label  \n",
       "0                          15      0  \n",
       "1                           0      0  \n",
       "2                        1111      0  \n",
       "3                         124      0  \n",
       "4                        1459      0  "
      ]
     },
     "execution_count": 2,
     "metadata": {},
     "output_type": "execute_result"
    }
   ],
   "source": [
    "x = df.drop(\"Attack\",axis=1)\n",
    "x.head()"
   ]
  },
  {
   "cell_type": "code",
   "execution_count": 3,
   "id": "3532c492",
   "metadata": {},
   "outputs": [
    {
     "data": {
      "text/plain": [
       "0    Benign\n",
       "1    Benign\n",
       "2    Benign\n",
       "3    Benign\n",
       "4    Benign\n",
       "Name: Attack, dtype: object"
      ]
     },
     "execution_count": 3,
     "metadata": {},
     "output_type": "execute_result"
    }
   ],
   "source": [
    "y = df[\"Attack\"]\n",
    "y.head()"
   ]
  },
  {
   "cell_type": "code",
   "execution_count": 4,
   "id": "2adc0348",
   "metadata": {},
   "outputs": [
    {
     "data": {
      "text/html": [
       "<div>\n",
       "<style scoped>\n",
       "    .dataframe tbody tr th:only-of-type {\n",
       "        vertical-align: middle;\n",
       "    }\n",
       "\n",
       "    .dataframe tbody tr th {\n",
       "        vertical-align: top;\n",
       "    }\n",
       "\n",
       "    .dataframe thead th {\n",
       "        text-align: right;\n",
       "    }\n",
       "</style>\n",
       "<table border=\"1\" class=\"dataframe\">\n",
       "  <thead>\n",
       "    <tr style=\"text-align: right;\">\n",
       "      <th></th>\n",
       "      <th>IPV4_SRC_ADDR</th>\n",
       "      <th>L4_SRC_PORT</th>\n",
       "      <th>IPV4_DST_ADDR</th>\n",
       "      <th>L4_DST_PORT</th>\n",
       "      <th>PROTOCOL</th>\n",
       "      <th>L7_PROTO</th>\n",
       "      <th>IN_BYTES</th>\n",
       "      <th>OUT_BYTES</th>\n",
       "      <th>IN_PKTS</th>\n",
       "      <th>OUT_PKTS</th>\n",
       "      <th>TCP_FLAGS</th>\n",
       "      <th>FLOW_DURATION_MILLISECONDS</th>\n",
       "      <th>Label</th>\n",
       "    </tr>\n",
       "  </thead>\n",
       "  <tbody>\n",
       "    <tr>\n",
       "      <th>0</th>\n",
       "      <td>149.171.126.0</td>\n",
       "      <td>62073</td>\n",
       "      <td>59.166.0.5</td>\n",
       "      <td>56082</td>\n",
       "      <td>6</td>\n",
       "      <td>0.0</td>\n",
       "      <td>9672</td>\n",
       "      <td>416</td>\n",
       "      <td>11</td>\n",
       "      <td>8</td>\n",
       "      <td>25</td>\n",
       "      <td>15</td>\n",
       "      <td>0</td>\n",
       "    </tr>\n",
       "    <tr>\n",
       "      <th>1</th>\n",
       "      <td>149.171.126.2</td>\n",
       "      <td>32284</td>\n",
       "      <td>59.166.0.5</td>\n",
       "      <td>1526</td>\n",
       "      <td>6</td>\n",
       "      <td>0.0</td>\n",
       "      <td>1776</td>\n",
       "      <td>104</td>\n",
       "      <td>6</td>\n",
       "      <td>2</td>\n",
       "      <td>25</td>\n",
       "      <td>0</td>\n",
       "      <td>0</td>\n",
       "    </tr>\n",
       "    <tr>\n",
       "      <th>2</th>\n",
       "      <td>149.171.126.0</td>\n",
       "      <td>21</td>\n",
       "      <td>59.166.0.1</td>\n",
       "      <td>21971</td>\n",
       "      <td>6</td>\n",
       "      <td>1.0</td>\n",
       "      <td>1842</td>\n",
       "      <td>1236</td>\n",
       "      <td>26</td>\n",
       "      <td>22</td>\n",
       "      <td>25</td>\n",
       "      <td>1111</td>\n",
       "      <td>0</td>\n",
       "    </tr>\n",
       "    <tr>\n",
       "      <th>3</th>\n",
       "      <td>59.166.0.1</td>\n",
       "      <td>23800</td>\n",
       "      <td>149.171.126.0</td>\n",
       "      <td>46893</td>\n",
       "      <td>6</td>\n",
       "      <td>0.0</td>\n",
       "      <td>528</td>\n",
       "      <td>8824</td>\n",
       "      <td>10</td>\n",
       "      <td>12</td>\n",
       "      <td>27</td>\n",
       "      <td>124</td>\n",
       "      <td>0</td>\n",
       "    </tr>\n",
       "    <tr>\n",
       "      <th>4</th>\n",
       "      <td>59.166.0.5</td>\n",
       "      <td>63062</td>\n",
       "      <td>149.171.126.2</td>\n",
       "      <td>21</td>\n",
       "      <td>6</td>\n",
       "      <td>1.0</td>\n",
       "      <td>1786</td>\n",
       "      <td>2340</td>\n",
       "      <td>32</td>\n",
       "      <td>34</td>\n",
       "      <td>25</td>\n",
       "      <td>1459</td>\n",
       "      <td>0</td>\n",
       "    </tr>\n",
       "    <tr>\n",
       "      <th>...</th>\n",
       "      <td>...</td>\n",
       "      <td>...</td>\n",
       "      <td>...</td>\n",
       "      <td>...</td>\n",
       "      <td>...</td>\n",
       "      <td>...</td>\n",
       "      <td>...</td>\n",
       "      <td>...</td>\n",
       "      <td>...</td>\n",
       "      <td>...</td>\n",
       "      <td>...</td>\n",
       "      <td>...</td>\n",
       "      <td>...</td>\n",
       "    </tr>\n",
       "    <tr>\n",
       "      <th>1623113</th>\n",
       "      <td>59.166.0.2</td>\n",
       "      <td>1640</td>\n",
       "      <td>149.171.126.8</td>\n",
       "      <td>53</td>\n",
       "      <td>17</td>\n",
       "      <td>0.0</td>\n",
       "      <td>130</td>\n",
       "      <td>162</td>\n",
       "      <td>2</td>\n",
       "      <td>2</td>\n",
       "      <td>0</td>\n",
       "      <td>0</td>\n",
       "      <td>0</td>\n",
       "    </tr>\n",
       "    <tr>\n",
       "      <th>1623114</th>\n",
       "      <td>59.166.0.2</td>\n",
       "      <td>3610</td>\n",
       "      <td>149.171.126.6</td>\n",
       "      <td>21</td>\n",
       "      <td>6</td>\n",
       "      <td>1.0</td>\n",
       "      <td>2044</td>\n",
       "      <td>2404</td>\n",
       "      <td>36</td>\n",
       "      <td>34</td>\n",
       "      <td>26</td>\n",
       "      <td>0</td>\n",
       "      <td>0</td>\n",
       "    </tr>\n",
       "    <tr>\n",
       "      <th>1623115</th>\n",
       "      <td>59.166.0.2</td>\n",
       "      <td>4667</td>\n",
       "      <td>149.171.126.6</td>\n",
       "      <td>40725</td>\n",
       "      <td>6</td>\n",
       "      <td>0.0</td>\n",
       "      <td>320</td>\n",
       "      <td>1918</td>\n",
       "      <td>6</td>\n",
       "      <td>8</td>\n",
       "      <td>27</td>\n",
       "      <td>0</td>\n",
       "      <td>0</td>\n",
       "    </tr>\n",
       "    <tr>\n",
       "      <th>1623116</th>\n",
       "      <td>59.166.0.2</td>\n",
       "      <td>5641</td>\n",
       "      <td>149.171.126.6</td>\n",
       "      <td>56243</td>\n",
       "      <td>6</td>\n",
       "      <td>0.0</td>\n",
       "      <td>528</td>\n",
       "      <td>8824</td>\n",
       "      <td>10</td>\n",
       "      <td>12</td>\n",
       "      <td>27</td>\n",
       "      <td>0</td>\n",
       "      <td>0</td>\n",
       "    </tr>\n",
       "    <tr>\n",
       "      <th>1623117</th>\n",
       "      <td>59.166.0.1</td>\n",
       "      <td>1245</td>\n",
       "      <td>149.171.126.6</td>\n",
       "      <td>55094</td>\n",
       "      <td>6</td>\n",
       "      <td>0.0</td>\n",
       "      <td>216</td>\n",
       "      <td>112</td>\n",
       "      <td>4</td>\n",
       "      <td>2</td>\n",
       "      <td>18</td>\n",
       "      <td>0</td>\n",
       "      <td>0</td>\n",
       "    </tr>\n",
       "  </tbody>\n",
       "</table>\n",
       "<p>1623118 rows × 13 columns</p>\n",
       "</div>"
      ],
      "text/plain": [
       "         IPV4_SRC_ADDR  L4_SRC_PORT  IPV4_DST_ADDR  L4_DST_PORT  PROTOCOL  \\\n",
       "0        149.171.126.0        62073     59.166.0.5        56082         6   \n",
       "1        149.171.126.2        32284     59.166.0.5         1526         6   \n",
       "2        149.171.126.0           21     59.166.0.1        21971         6   \n",
       "3           59.166.0.1        23800  149.171.126.0        46893         6   \n",
       "4           59.166.0.5        63062  149.171.126.2           21         6   \n",
       "...                ...          ...            ...          ...       ...   \n",
       "1623113     59.166.0.2         1640  149.171.126.8           53        17   \n",
       "1623114     59.166.0.2         3610  149.171.126.6           21         6   \n",
       "1623115     59.166.0.2         4667  149.171.126.6        40725         6   \n",
       "1623116     59.166.0.2         5641  149.171.126.6        56243         6   \n",
       "1623117     59.166.0.1         1245  149.171.126.6        55094         6   \n",
       "\n",
       "         L7_PROTO  IN_BYTES  OUT_BYTES  IN_PKTS  OUT_PKTS  TCP_FLAGS  \\\n",
       "0             0.0      9672        416       11         8         25   \n",
       "1             0.0      1776        104        6         2         25   \n",
       "2             1.0      1842       1236       26        22         25   \n",
       "3             0.0       528       8824       10        12         27   \n",
       "4             1.0      1786       2340       32        34         25   \n",
       "...           ...       ...        ...      ...       ...        ...   \n",
       "1623113       0.0       130        162        2         2          0   \n",
       "1623114       1.0      2044       2404       36        34         26   \n",
       "1623115       0.0       320       1918        6         8         27   \n",
       "1623116       0.0       528       8824       10        12         27   \n",
       "1623117       0.0       216        112        4         2         18   \n",
       "\n",
       "         FLOW_DURATION_MILLISECONDS  Label  \n",
       "0                                15      0  \n",
       "1                                 0      0  \n",
       "2                              1111      0  \n",
       "3                               124      0  \n",
       "4                              1459      0  \n",
       "...                             ...    ...  \n",
       "1623113                           0      0  \n",
       "1623114                           0      0  \n",
       "1623115                           0      0  \n",
       "1623116                           0      0  \n",
       "1623117                           0      0  \n",
       "\n",
       "[1623118 rows x 13 columns]"
      ]
     },
     "execution_count": 4,
     "metadata": {},
     "output_type": "execute_result"
    }
   ],
   "source": [
    "x"
   ]
  },
  {
   "cell_type": "code",
   "execution_count": 5,
   "id": "c21d6666",
   "metadata": {},
   "outputs": [
    {
     "data": {
      "text/plain": [
       "0          Benign\n",
       "1          Benign\n",
       "2          Benign\n",
       "3          Benign\n",
       "4          Benign\n",
       "            ...  \n",
       "1623113    Benign\n",
       "1623114    Benign\n",
       "1623115    Benign\n",
       "1623116    Benign\n",
       "1623117    Benign\n",
       "Name: Attack, Length: 1623118, dtype: object"
      ]
     },
     "execution_count": 5,
     "metadata": {},
     "output_type": "execute_result"
    }
   ],
   "source": [
    "y"
   ]
  },
  {
   "cell_type": "code",
   "execution_count": 6,
   "id": "e210eb50",
   "metadata": {},
   "outputs": [
    {
     "data": {
      "text/plain": [
       "array(['Benign', 'Exploits', 'Reconnaissance', 'DoS', 'Generic',\n",
       "       'Shellcode', 'Backdoor', 'Fuzzers', 'Worms', 'Analysis'],\n",
       "      dtype=object)"
      ]
     },
     "execution_count": 6,
     "metadata": {},
     "output_type": "execute_result"
    }
   ],
   "source": [
    "df[\"Attack\"].unique()"
   ]
  },
  {
   "cell_type": "code",
   "execution_count": 7,
   "id": "fe5a2ea3",
   "metadata": {},
   "outputs": [
    {
     "data": {
      "text/plain": [
       "Attack\n",
       "Benign            1550712\n",
       "Exploits            24736\n",
       "Fuzzers             19463\n",
       "Reconnaissance      12291\n",
       "Generic              5570\n",
       "DoS                  5051\n",
       "Analysis             1995\n",
       "Backdoor             1782\n",
       "Shellcode            1365\n",
       "Worms                 153\n",
       "Name: count, dtype: int64"
      ]
     },
     "execution_count": 7,
     "metadata": {},
     "output_type": "execute_result"
    }
   ],
   "source": [
    "df[\"Attack\"].value_counts()"
   ]
  },
  {
   "cell_type": "code",
   "execution_count": 8,
   "id": "c46c1a06",
   "metadata": {},
   "outputs": [],
   "source": [
    "from sklearn.preprocessing import LabelEncoder\n",
    "label_encoder = LabelEncoder()\n",
    "df[\"Attack\"] = label_encoder.fit_transform(df[\"Attack\"])\n",
    "df[\"IPV4_SRC_ADDR\"] = label_encoder.fit_transform(df[\"IPV4_SRC_ADDR\"])\n",
    "df[\"IPV4_DST_ADDR\"] = label_encoder.fit_transform(df[\"IPV4_DST_ADDR\"])\n",
    "\n"
   ]
  },
  {
   "cell_type": "code",
   "execution_count": 9,
   "id": "81594af2",
   "metadata": {},
   "outputs": [
    {
     "data": {
      "text/html": [
       "<div>\n",
       "<style scoped>\n",
       "    .dataframe tbody tr th:only-of-type {\n",
       "        vertical-align: middle;\n",
       "    }\n",
       "\n",
       "    .dataframe tbody tr th {\n",
       "        vertical-align: top;\n",
       "    }\n",
       "\n",
       "    .dataframe thead th {\n",
       "        text-align: right;\n",
       "    }\n",
       "</style>\n",
       "<table border=\"1\" class=\"dataframe\">\n",
       "  <thead>\n",
       "    <tr style=\"text-align: right;\">\n",
       "      <th></th>\n",
       "      <th>IPV4_SRC_ADDR</th>\n",
       "      <th>L4_SRC_PORT</th>\n",
       "      <th>IPV4_DST_ADDR</th>\n",
       "      <th>L4_DST_PORT</th>\n",
       "      <th>PROTOCOL</th>\n",
       "      <th>L7_PROTO</th>\n",
       "      <th>IN_BYTES</th>\n",
       "      <th>OUT_BYTES</th>\n",
       "      <th>IN_PKTS</th>\n",
       "      <th>OUT_PKTS</th>\n",
       "      <th>TCP_FLAGS</th>\n",
       "      <th>FLOW_DURATION_MILLISECONDS</th>\n",
       "      <th>Label</th>\n",
       "      <th>Attack</th>\n",
       "    </tr>\n",
       "  </thead>\n",
       "  <tbody>\n",
       "    <tr>\n",
       "      <th>0</th>\n",
       "      <td>5</td>\n",
       "      <td>62073</td>\n",
       "      <td>35</td>\n",
       "      <td>56082</td>\n",
       "      <td>6</td>\n",
       "      <td>0.0</td>\n",
       "      <td>9672</td>\n",
       "      <td>416</td>\n",
       "      <td>11</td>\n",
       "      <td>8</td>\n",
       "      <td>25</td>\n",
       "      <td>15</td>\n",
       "      <td>0</td>\n",
       "      <td>2</td>\n",
       "    </tr>\n",
       "    <tr>\n",
       "      <th>1</th>\n",
       "      <td>17</td>\n",
       "      <td>32284</td>\n",
       "      <td>35</td>\n",
       "      <td>1526</td>\n",
       "      <td>6</td>\n",
       "      <td>0.0</td>\n",
       "      <td>1776</td>\n",
       "      <td>104</td>\n",
       "      <td>6</td>\n",
       "      <td>2</td>\n",
       "      <td>25</td>\n",
       "      <td>0</td>\n",
       "      <td>0</td>\n",
       "      <td>2</td>\n",
       "    </tr>\n",
       "    <tr>\n",
       "      <th>2</th>\n",
       "      <td>5</td>\n",
       "      <td>21</td>\n",
       "      <td>31</td>\n",
       "      <td>21971</td>\n",
       "      <td>6</td>\n",
       "      <td>1.0</td>\n",
       "      <td>1842</td>\n",
       "      <td>1236</td>\n",
       "      <td>26</td>\n",
       "      <td>22</td>\n",
       "      <td>25</td>\n",
       "      <td>1111</td>\n",
       "      <td>0</td>\n",
       "      <td>2</td>\n",
       "    </tr>\n",
       "    <tr>\n",
       "      <th>3</th>\n",
       "      <td>31</td>\n",
       "      <td>23800</td>\n",
       "      <td>3</td>\n",
       "      <td>46893</td>\n",
       "      <td>6</td>\n",
       "      <td>0.0</td>\n",
       "      <td>528</td>\n",
       "      <td>8824</td>\n",
       "      <td>10</td>\n",
       "      <td>12</td>\n",
       "      <td>27</td>\n",
       "      <td>124</td>\n",
       "      <td>0</td>\n",
       "      <td>2</td>\n",
       "    </tr>\n",
       "    <tr>\n",
       "      <th>4</th>\n",
       "      <td>35</td>\n",
       "      <td>63062</td>\n",
       "      <td>15</td>\n",
       "      <td>21</td>\n",
       "      <td>6</td>\n",
       "      <td>1.0</td>\n",
       "      <td>1786</td>\n",
       "      <td>2340</td>\n",
       "      <td>32</td>\n",
       "      <td>34</td>\n",
       "      <td>25</td>\n",
       "      <td>1459</td>\n",
       "      <td>0</td>\n",
       "      <td>2</td>\n",
       "    </tr>\n",
       "    <tr>\n",
       "      <th>...</th>\n",
       "      <td>...</td>\n",
       "      <td>...</td>\n",
       "      <td>...</td>\n",
       "      <td>...</td>\n",
       "      <td>...</td>\n",
       "      <td>...</td>\n",
       "      <td>...</td>\n",
       "      <td>...</td>\n",
       "      <td>...</td>\n",
       "      <td>...</td>\n",
       "      <td>...</td>\n",
       "      <td>...</td>\n",
       "      <td>...</td>\n",
       "      <td>...</td>\n",
       "    </tr>\n",
       "    <tr>\n",
       "      <th>1623113</th>\n",
       "      <td>32</td>\n",
       "      <td>1640</td>\n",
       "      <td>21</td>\n",
       "      <td>53</td>\n",
       "      <td>17</td>\n",
       "      <td>0.0</td>\n",
       "      <td>130</td>\n",
       "      <td>162</td>\n",
       "      <td>2</td>\n",
       "      <td>2</td>\n",
       "      <td>0</td>\n",
       "      <td>0</td>\n",
       "      <td>0</td>\n",
       "      <td>2</td>\n",
       "    </tr>\n",
       "    <tr>\n",
       "      <th>1623114</th>\n",
       "      <td>32</td>\n",
       "      <td>3610</td>\n",
       "      <td>19</td>\n",
       "      <td>21</td>\n",
       "      <td>6</td>\n",
       "      <td>1.0</td>\n",
       "      <td>2044</td>\n",
       "      <td>2404</td>\n",
       "      <td>36</td>\n",
       "      <td>34</td>\n",
       "      <td>26</td>\n",
       "      <td>0</td>\n",
       "      <td>0</td>\n",
       "      <td>2</td>\n",
       "    </tr>\n",
       "    <tr>\n",
       "      <th>1623115</th>\n",
       "      <td>32</td>\n",
       "      <td>4667</td>\n",
       "      <td>19</td>\n",
       "      <td>40725</td>\n",
       "      <td>6</td>\n",
       "      <td>0.0</td>\n",
       "      <td>320</td>\n",
       "      <td>1918</td>\n",
       "      <td>6</td>\n",
       "      <td>8</td>\n",
       "      <td>27</td>\n",
       "      <td>0</td>\n",
       "      <td>0</td>\n",
       "      <td>2</td>\n",
       "    </tr>\n",
       "    <tr>\n",
       "      <th>1623116</th>\n",
       "      <td>32</td>\n",
       "      <td>5641</td>\n",
       "      <td>19</td>\n",
       "      <td>56243</td>\n",
       "      <td>6</td>\n",
       "      <td>0.0</td>\n",
       "      <td>528</td>\n",
       "      <td>8824</td>\n",
       "      <td>10</td>\n",
       "      <td>12</td>\n",
       "      <td>27</td>\n",
       "      <td>0</td>\n",
       "      <td>0</td>\n",
       "      <td>2</td>\n",
       "    </tr>\n",
       "    <tr>\n",
       "      <th>1623117</th>\n",
       "      <td>31</td>\n",
       "      <td>1245</td>\n",
       "      <td>19</td>\n",
       "      <td>55094</td>\n",
       "      <td>6</td>\n",
       "      <td>0.0</td>\n",
       "      <td>216</td>\n",
       "      <td>112</td>\n",
       "      <td>4</td>\n",
       "      <td>2</td>\n",
       "      <td>18</td>\n",
       "      <td>0</td>\n",
       "      <td>0</td>\n",
       "      <td>2</td>\n",
       "    </tr>\n",
       "  </tbody>\n",
       "</table>\n",
       "<p>1623118 rows × 14 columns</p>\n",
       "</div>"
      ],
      "text/plain": [
       "         IPV4_SRC_ADDR  L4_SRC_PORT  IPV4_DST_ADDR  L4_DST_PORT  PROTOCOL  \\\n",
       "0                    5        62073             35        56082         6   \n",
       "1                   17        32284             35         1526         6   \n",
       "2                    5           21             31        21971         6   \n",
       "3                   31        23800              3        46893         6   \n",
       "4                   35        63062             15           21         6   \n",
       "...                ...          ...            ...          ...       ...   \n",
       "1623113             32         1640             21           53        17   \n",
       "1623114             32         3610             19           21         6   \n",
       "1623115             32         4667             19        40725         6   \n",
       "1623116             32         5641             19        56243         6   \n",
       "1623117             31         1245             19        55094         6   \n",
       "\n",
       "         L7_PROTO  IN_BYTES  OUT_BYTES  IN_PKTS  OUT_PKTS  TCP_FLAGS  \\\n",
       "0             0.0      9672        416       11         8         25   \n",
       "1             0.0      1776        104        6         2         25   \n",
       "2             1.0      1842       1236       26        22         25   \n",
       "3             0.0       528       8824       10        12         27   \n",
       "4             1.0      1786       2340       32        34         25   \n",
       "...           ...       ...        ...      ...       ...        ...   \n",
       "1623113       0.0       130        162        2         2          0   \n",
       "1623114       1.0      2044       2404       36        34         26   \n",
       "1623115       0.0       320       1918        6         8         27   \n",
       "1623116       0.0       528       8824       10        12         27   \n",
       "1623117       0.0       216        112        4         2         18   \n",
       "\n",
       "         FLOW_DURATION_MILLISECONDS  Label  Attack  \n",
       "0                                15      0       2  \n",
       "1                                 0      0       2  \n",
       "2                              1111      0       2  \n",
       "3                               124      0       2  \n",
       "4                              1459      0       2  \n",
       "...                             ...    ...     ...  \n",
       "1623113                           0      0       2  \n",
       "1623114                           0      0       2  \n",
       "1623115                           0      0       2  \n",
       "1623116                           0      0       2  \n",
       "1623117                           0      0       2  \n",
       "\n",
       "[1623118 rows x 14 columns]"
      ]
     },
     "execution_count": 9,
     "metadata": {},
     "output_type": "execute_result"
    }
   ],
   "source": [
    "df"
   ]
  },
  {
   "cell_type": "code",
   "execution_count": 10,
   "id": "9fa55b95",
   "metadata": {},
   "outputs": [
    {
     "data": {
      "text/plain": [
       "Attack\n",
       "2    1550712\n",
       "4      24736\n",
       "5      19463\n",
       "7      12291\n",
       "6       5570\n",
       "3       5051\n",
       "0       1995\n",
       "1       1782\n",
       "8       1365\n",
       "9        153\n",
       "Name: count, dtype: int64"
      ]
     },
     "execution_count": 10,
     "metadata": {},
     "output_type": "execute_result"
    }
   ],
   "source": [
    "df[\"Attack\"].value_counts()"
   ]
  },
  {
   "cell_type": "code",
   "execution_count": 11,
   "id": "efd19c56",
   "metadata": {},
   "outputs": [
    {
     "data": {
      "text/plain": [
       "IPV4_SRC_ADDR                   int32\n",
       "L4_SRC_PORT                     int64\n",
       "IPV4_DST_ADDR                   int32\n",
       "L4_DST_PORT                     int64\n",
       "PROTOCOL                        int64\n",
       "L7_PROTO                      float64\n",
       "IN_BYTES                        int64\n",
       "OUT_BYTES                       int64\n",
       "IN_PKTS                         int64\n",
       "OUT_PKTS                        int64\n",
       "TCP_FLAGS                       int64\n",
       "FLOW_DURATION_MILLISECONDS      int64\n",
       "Label                           int64\n",
       "Attack                          int32\n",
       "dtype: object"
      ]
     },
     "execution_count": 11,
     "metadata": {},
     "output_type": "execute_result"
    }
   ],
   "source": [
    "df.dtypes"
   ]
  },
  {
   "cell_type": "code",
   "execution_count": 12,
   "id": "04f77cd7",
   "metadata": {},
   "outputs": [
    {
     "data": {
      "text/plain": [
       "0          2\n",
       "1          2\n",
       "2          2\n",
       "3          2\n",
       "4          2\n",
       "          ..\n",
       "1623113    2\n",
       "1623114    2\n",
       "1623115    2\n",
       "1623116    2\n",
       "1623117    2\n",
       "Name: Attack, Length: 1623118, dtype: int32"
      ]
     },
     "execution_count": 12,
     "metadata": {},
     "output_type": "execute_result"
    }
   ],
   "source": [
    "df[\"Attack\"]"
   ]
  },
  {
   "cell_type": "code",
   "execution_count": 13,
   "id": "3c503973",
   "metadata": {},
   "outputs": [
    {
     "data": {
      "text/html": [
       "<div>\n",
       "<style scoped>\n",
       "    .dataframe tbody tr th:only-of-type {\n",
       "        vertical-align: middle;\n",
       "    }\n",
       "\n",
       "    .dataframe tbody tr th {\n",
       "        vertical-align: top;\n",
       "    }\n",
       "\n",
       "    .dataframe thead th {\n",
       "        text-align: right;\n",
       "    }\n",
       "</style>\n",
       "<table border=\"1\" class=\"dataframe\">\n",
       "  <thead>\n",
       "    <tr style=\"text-align: right;\">\n",
       "      <th></th>\n",
       "      <th>IPV4_SRC_ADDR</th>\n",
       "      <th>L4_SRC_PORT</th>\n",
       "      <th>IPV4_DST_ADDR</th>\n",
       "      <th>L4_DST_PORT</th>\n",
       "      <th>PROTOCOL</th>\n",
       "      <th>L7_PROTO</th>\n",
       "      <th>IN_BYTES</th>\n",
       "      <th>OUT_BYTES</th>\n",
       "      <th>IN_PKTS</th>\n",
       "      <th>OUT_PKTS</th>\n",
       "      <th>TCP_FLAGS</th>\n",
       "      <th>FLOW_DURATION_MILLISECONDS</th>\n",
       "      <th>Label</th>\n",
       "    </tr>\n",
       "  </thead>\n",
       "  <tbody>\n",
       "    <tr>\n",
       "      <th>29</th>\n",
       "      <td>26</td>\n",
       "      <td>43025</td>\n",
       "      <td>11</td>\n",
       "      <td>25</td>\n",
       "      <td>6</td>\n",
       "      <td>3.0</td>\n",
       "      <td>41290</td>\n",
       "      <td>2080</td>\n",
       "      <td>48</td>\n",
       "      <td>24</td>\n",
       "      <td>27</td>\n",
       "      <td>803</td>\n",
       "      <td>1</td>\n",
       "    </tr>\n",
       "  </tbody>\n",
       "</table>\n",
       "</div>"
      ],
      "text/plain": [
       "    IPV4_SRC_ADDR  L4_SRC_PORT  IPV4_DST_ADDR  L4_DST_PORT  PROTOCOL  \\\n",
       "29             26        43025             11           25         6   \n",
       "\n",
       "    L7_PROTO  IN_BYTES  OUT_BYTES  IN_PKTS  OUT_PKTS  TCP_FLAGS  \\\n",
       "29       3.0     41290       2080       48        24         27   \n",
       "\n",
       "    FLOW_DURATION_MILLISECONDS  Label  \n",
       "29                         803      1  "
      ]
     },
     "execution_count": 13,
     "metadata": {},
     "output_type": "execute_result"
    }
   ],
   "source": [
    "x = df.drop(\"Attack\",axis=1)\n",
    "x[29:30]"
   ]
  },
  {
   "cell_type": "code",
   "execution_count": 14,
   "id": "f95d4bc3",
   "metadata": {},
   "outputs": [],
   "source": [
    "\n",
    "from sklearn.model_selection import train_test_split\n",
    "x_train,x_test,y_train,y_test = train_test_split(x,y,test_size=0.2,random_state=42)"
   ]
  },
  {
   "cell_type": "code",
   "execution_count": 15,
   "id": "7119135f",
   "metadata": {},
   "outputs": [
    {
     "data": {
      "text/html": [
       "<style>#sk-container-id-1 {color: black;}#sk-container-id-1 pre{padding: 0;}#sk-container-id-1 div.sk-toggleable {background-color: white;}#sk-container-id-1 label.sk-toggleable__label {cursor: pointer;display: block;width: 100%;margin-bottom: 0;padding: 0.3em;box-sizing: border-box;text-align: center;}#sk-container-id-1 label.sk-toggleable__label-arrow:before {content: \"▸\";float: left;margin-right: 0.25em;color: #696969;}#sk-container-id-1 label.sk-toggleable__label-arrow:hover:before {color: black;}#sk-container-id-1 div.sk-estimator:hover label.sk-toggleable__label-arrow:before {color: black;}#sk-container-id-1 div.sk-toggleable__content {max-height: 0;max-width: 0;overflow: hidden;text-align: left;background-color: #f0f8ff;}#sk-container-id-1 div.sk-toggleable__content pre {margin: 0.2em;color: black;border-radius: 0.25em;background-color: #f0f8ff;}#sk-container-id-1 input.sk-toggleable__control:checked~div.sk-toggleable__content {max-height: 200px;max-width: 100%;overflow: auto;}#sk-container-id-1 input.sk-toggleable__control:checked~label.sk-toggleable__label-arrow:before {content: \"▾\";}#sk-container-id-1 div.sk-estimator input.sk-toggleable__control:checked~label.sk-toggleable__label {background-color: #d4ebff;}#sk-container-id-1 div.sk-label input.sk-toggleable__control:checked~label.sk-toggleable__label {background-color: #d4ebff;}#sk-container-id-1 input.sk-hidden--visually {border: 0;clip: rect(1px 1px 1px 1px);clip: rect(1px, 1px, 1px, 1px);height: 1px;margin: -1px;overflow: hidden;padding: 0;position: absolute;width: 1px;}#sk-container-id-1 div.sk-estimator {font-family: monospace;background-color: #f0f8ff;border: 1px dotted black;border-radius: 0.25em;box-sizing: border-box;margin-bottom: 0.5em;}#sk-container-id-1 div.sk-estimator:hover {background-color: #d4ebff;}#sk-container-id-1 div.sk-parallel-item::after {content: \"\";width: 100%;border-bottom: 1px solid gray;flex-grow: 1;}#sk-container-id-1 div.sk-label:hover label.sk-toggleable__label {background-color: #d4ebff;}#sk-container-id-1 div.sk-serial::before {content: \"\";position: absolute;border-left: 1px solid gray;box-sizing: border-box;top: 0;bottom: 0;left: 50%;z-index: 0;}#sk-container-id-1 div.sk-serial {display: flex;flex-direction: column;align-items: center;background-color: white;padding-right: 0.2em;padding-left: 0.2em;position: relative;}#sk-container-id-1 div.sk-item {position: relative;z-index: 1;}#sk-container-id-1 div.sk-parallel {display: flex;align-items: stretch;justify-content: center;background-color: white;position: relative;}#sk-container-id-1 div.sk-item::before, #sk-container-id-1 div.sk-parallel-item::before {content: \"\";position: absolute;border-left: 1px solid gray;box-sizing: border-box;top: 0;bottom: 0;left: 50%;z-index: -1;}#sk-container-id-1 div.sk-parallel-item {display: flex;flex-direction: column;z-index: 1;position: relative;background-color: white;}#sk-container-id-1 div.sk-parallel-item:first-child::after {align-self: flex-end;width: 50%;}#sk-container-id-1 div.sk-parallel-item:last-child::after {align-self: flex-start;width: 50%;}#sk-container-id-1 div.sk-parallel-item:only-child::after {width: 0;}#sk-container-id-1 div.sk-dashed-wrapped {border: 1px dashed gray;margin: 0 0.4em 0.5em 0.4em;box-sizing: border-box;padding-bottom: 0.4em;background-color: white;}#sk-container-id-1 div.sk-label label {font-family: monospace;font-weight: bold;display: inline-block;line-height: 1.2em;}#sk-container-id-1 div.sk-label-container {text-align: center;}#sk-container-id-1 div.sk-container {/* jupyter's `normalize.less` sets `[hidden] { display: none; }` but bootstrap.min.css set `[hidden] { display: none !important; }` so we also need the `!important` here to be able to override the default hidden behavior on the sphinx rendered scikit-learn.org. See: https://github.com/scikit-learn/scikit-learn/issues/21755 */display: inline-block !important;position: relative;}#sk-container-id-1 div.sk-text-repr-fallback {display: none;}</style><div id=\"sk-container-id-1\" class=\"sk-top-container\"><div class=\"sk-text-repr-fallback\"><pre>DecisionTreeClassifier()</pre><b>In a Jupyter environment, please rerun this cell to show the HTML representation or trust the notebook. <br />On GitHub, the HTML representation is unable to render, please try loading this page with nbviewer.org.</b></div><div class=\"sk-container\" hidden><div class=\"sk-item\"><div class=\"sk-estimator sk-toggleable\"><input class=\"sk-toggleable__control sk-hidden--visually\" id=\"sk-estimator-id-1\" type=\"checkbox\" checked><label for=\"sk-estimator-id-1\" class=\"sk-toggleable__label sk-toggleable__label-arrow\">DecisionTreeClassifier</label><div class=\"sk-toggleable__content\"><pre>DecisionTreeClassifier()</pre></div></div></div></div></div>"
      ],
      "text/plain": [
       "DecisionTreeClassifier()"
      ]
     },
     "execution_count": 15,
     "metadata": {},
     "output_type": "execute_result"
    }
   ],
   "source": [
    "from sklearn import tree\n",
    "model = tree.DecisionTreeClassifier()\n",
    "model.fit(x_train,y_train)"
   ]
  },
  {
   "cell_type": "code",
   "execution_count": 16,
   "id": "a6c8885b",
   "metadata": {},
   "outputs": [
    {
     "data": {
      "text/plain": [
       "0.9886268421312041"
      ]
     },
     "execution_count": 16,
     "metadata": {},
     "output_type": "execute_result"
    }
   ],
   "source": [
    "model.score(x_test,y_test)"
   ]
  },
  {
   "cell_type": "code",
   "execution_count": 17,
   "id": "6f975f50",
   "metadata": {},
   "outputs": [],
   "source": [
    "y_pred = model.predict(x_test)"
   ]
  },
  {
   "cell_type": "code",
   "execution_count": 18,
   "id": "0bd9cd1c",
   "metadata": {},
   "outputs": [
    {
     "data": {
      "text/plain": [
       "array(['Benign', 'Benign', 'Benign', ..., 'Benign', 'Benign', 'Benign'],\n",
       "      dtype=object)"
      ]
     },
     "execution_count": 18,
     "metadata": {},
     "output_type": "execute_result"
    }
   ],
   "source": [
    "y_pred"
   ]
  },
  {
   "cell_type": "code",
   "execution_count": 19,
   "id": "0ad98d37",
   "metadata": {},
   "outputs": [
    {
     "data": {
      "text/plain": [
       "0.9886268421312041"
      ]
     },
     "execution_count": 19,
     "metadata": {},
     "output_type": "execute_result"
    }
   ],
   "source": [
    "from sklearn.metrics import accuracy_score\n",
    "from sklearn.metrics import precision_score\n",
    "accuracy_score(y_test,y_pred)\n",
    "model.score(x_test,y_test)"
   ]
  },
  {
   "cell_type": "code",
   "execution_count": 20,
   "id": "ea0e4daa",
   "metadata": {},
   "outputs": [
    {
     "data": {
      "text/plain": [
       "0.9923481968725113"
      ]
     },
     "execution_count": 20,
     "metadata": {},
     "output_type": "execute_result"
    }
   ],
   "source": [
    "precision_score(y_test,y_pred, average='weighted')"
   ]
  },
  {
   "cell_type": "code",
   "execution_count": 21,
   "id": "4405bbf2",
   "metadata": {},
   "outputs": [
    {
     "name": "stdout",
     "output_type": "stream",
     "text": [
      "accuracy-of-DT: 98.86268421312042 %\n",
      "precision-of-DT: 99.23481968725113 %\n"
     ]
    }
   ],
   "source": [
    "print( \"accuracy-of-DT:\", accuracy_score(y_test,y_pred)*100,\"%\")\n",
    "print( \"precision-of-DT:\", precision_score(y_test,y_pred, average='weighted')*100,\"%\")"
   ]
  },
  {
   "cell_type": "code",
   "execution_count": 22,
   "id": "d7e484d3",
   "metadata": {},
   "outputs": [
    {
     "data": {
      "text/plain": [
       "<sklearn.metrics._plot.confusion_matrix.ConfusionMatrixDisplay at 0x29b00c88110>"
      ]
     },
     "execution_count": 22,
     "metadata": {},
     "output_type": "execute_result"
    },
    {
     "data": {
      "image/png": "[encoded data removed]",
      "text/plain": [
       "<Figure size 640x480 with 2 Axes>"
      ]
     },
     "metadata": {},
     "output_type": "display_data"
    }
   ],
   "source": [
    "from sklearn.metrics import confusion_matrix,ConfusionMatrixDisplay \n",
    "import matplotlib.pyplot as plt\n",
    "disp = ConfusionMatrixDisplay.from_predictions(y_test, y_pred, xticks_rotation=\"vertical\")\n",
    "disp\n",
    "\n",
    "\n"
   ]
  },
  {
   "cell_type": "code",
   "execution_count": 23,
   "id": "363d4c5c",
   "metadata": {},
   "outputs": [
    {
     "data": {
      "text/plain": [
       "array([0.00389066, 0.01436598, 0.00569839, 0.14336193, 0.00235748,\n",
       "       0.01362393, 0.04370024, 0.07687428, 0.00583298, 0.01773915,\n",
       "       0.00470853, 0.01838773, 0.64945872])"
      ]
     },
     "execution_count": 23,
     "metadata": {},
     "output_type": "execute_result"
    }
   ],
   "source": [
    "model.feature_importances_"
   ]
  },
  {
   "cell_type": "code",
   "execution_count": 24,
   "id": "d81931a4",
   "metadata": {},
   "outputs": [
    {
     "data": {
      "text/plain": [
       "Text(0.5, 0, 'features')"
      ]
     },
     "execution_count": 24,
     "metadata": {},
     "output_type": "execute_result"
    },
    {
     "data": {
      "image/png": "[encoded data removed]",
      "text/plain": [
       "<Figure size 640x480 with 1 Axes>"
      ]
     },
     "metadata": {},
     "output_type": "display_data"
    }
   ],
   "source": [
    "import numpy as np\n",
    "plt.bar(['IPV4_SRC_ADDR','L4_SRC_PORT','IPV4_DST_ADDR','L4_DST_PORT','PROTOCOL','L_PROTO','IN_BYTES','OUT_BYTES','IN_PKTS','OUT_PKTS','TCP_FLAGS','FLOW_DURATION_MILLISECONDS', 'Label'],model.feature_importances_,color='green')\n",
    "plt.xticks(rotation=90)\n",
    "plt.ylabel(\"feature_importance\")\n",
    "plt.xlabel(\"features\")"
   ]
  },
  {
   "cell_type": "code",
   "execution_count": 25,
   "id": "9ff39e4c",
   "metadata": {},
   "outputs": [],
   "source": [
    "from sklearn.neighbors import KNeighborsClassifier\n",
    "clf = KNeighborsClassifier()\n",
    "clf.fit(x_train,y_train)\n",
    "y_predict = clf.predict(x_test)"
   ]
  },
  {
   "cell_type": "code",
   "execution_count": 26,
   "id": "df071313",
   "metadata": {},
   "outputs": [
    {
     "data": {
      "text/plain": [
       "0.9672759869880231"
      ]
     },
     "execution_count": 26,
     "metadata": {},
     "output_type": "execute_result"
    }
   ],
   "source": [
    "accuracy_score(y_test,y_predict)"
   ]
  },
  {
   "cell_type": "code",
   "execution_count": 27,
   "id": "8c4b8334",
   "metadata": {},
   "outputs": [
    {
     "data": {
      "text/plain": [
       "0.9650367962066007"
      ]
     },
     "execution_count": 27,
     "metadata": {},
     "output_type": "execute_result"
    }
   ],
   "source": [
    "precision_score(y_test,y_predict,average='weighted')"
   ]
  },
  {
   "cell_type": "code",
   "execution_count": 28,
   "id": "e6c93a50",
   "metadata": {
    "scrolled": false
   },
   "outputs": [
    {
     "name": "stdout",
     "output_type": "stream",
     "text": [
      "Accuracy-of-DT: 98.86268421312042 %\n",
      "Precision-of-DT: 99.23481968725113 %\n",
      "Accuracy-of-KNN: 96.72759869880231 %\n",
      "Precision-of-KNN: 96.50367962066007 %\n"
     ]
    }
   ],
   "source": [
    "print( \"Accuracy-of-DT:\", accuracy_score(y_test,y_pred)*100,\"%\")\n",
    "print( \"Precision-of-DT:\", precision_score(y_test,y_pred, average='weighted')*100,\"%\")\n",
    "print(\"Accuracy-of-KNN:\",accuracy_score(y_test,y_predict)*100,'%')\n",
    "print(\"Precision-of-KNN:\",precision_score(y_test,y_predict,average='weighted')*100,'%')"
   ]
  },
  {
   "cell_type": "code",
   "execution_count": 29,
   "id": "9bbc7357",
   "metadata": {},
   "outputs": [
    {
     "data": {
      "text/plain": [
       "0.9672759869880231"
      ]
     },
     "execution_count": 29,
     "metadata": {},
     "output_type": "execute_result"
    }
   ],
   "source": [
    "model.score(x_test,y_test)\n",
    "clf.score(x_test,y_test)"
   ]
  },
  {
   "cell_type": "code",
   "execution_count": 30,
   "id": "29c3a351",
   "metadata": {},
   "outputs": [
    {
     "name": "stdout",
     "output_type": "stream",
     "text": [
      "cross_val_score-DT: 98.91899419809738 %\n"
     ]
    }
   ],
   "source": [
    "from sklearn.model_selection  import cross_val_score\n",
    "cross_val_score(model,x,y, cv=3).mean()\n",
    "print(\"cross_val_score-DT:\",cross_val_score(model,x,y, cv=3).mean()*100,\"%\")"
   ]
  },
  {
   "cell_type": "code",
   "execution_count": 31,
   "id": "332a5950",
   "metadata": {},
   "outputs": [
    {
     "name": "stdout",
     "output_type": "stream",
     "text": [
      "cross_val_score-KNN: 96.23157402531474 %\n"
     ]
    }
   ],
   "source": [
    "cross_val_score(clf,x,y, cv=3).mean()\n",
    "print(\"cross_val_score-KNN:\",cross_val_score(clf,x,y, cv=3).mean()*100,\"%\")"
   ]
  }
 ],
 "metadata": {
  "kernelspec": {
   "display_name": "Python 3 (ipykernel)",
   "language": "python",
   "name": "python3"
  },
  "language_info": {
   "codemirror_mode": {
    "name": "ipython",
    "version": 3
   },
   "file_extension": ".py",
   "mimetype": "text/x-python",
   "name": "python",
   "nbconvert_exporter": "python",
   "pygments_lexer": "ipython3",
   "version": "3.11.5"
  }
 },
 "nbformat": 4,
 "nbformat_minor": 5
}
